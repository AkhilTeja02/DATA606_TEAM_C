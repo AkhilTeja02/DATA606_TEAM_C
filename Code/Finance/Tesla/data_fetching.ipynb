{
 "cells": [
  {
   "cell_type": "code",
   "execution_count": 11,
   "id": "8356e147",
   "metadata": {},
   "outputs": [
    {
     "name": "stdout",
     "output_type": "stream",
     "text": [
      "Requirement already satisfied: pymongo in c:\\users\\jampani akhil teja\\anaconda3\\lib\\site-packages (4.3.3)\n",
      "Requirement already satisfied: dnspython<3.0.0,>=1.16.0 in c:\\users\\jampani akhil teja\\anaconda3\\lib\\site-packages (from pymongo) (2.3.0)\n"
     ]
    }
   ],
   "source": [
    "! pip install pymongo"
   ]
  },
  {
   "cell_type": "code",
   "execution_count": 12,
   "id": "41d09e84",
   "metadata": {},
   "outputs": [
    {
     "name": "stdout",
     "output_type": "stream",
     "text": [
      "                     author  created_utc       id        name  num_comments  \\\n",
      "0                  CSGOSELL   1693526684  166rkkr  t3_166rkkr             0   \n",
      "1              RobDickinson   1693526736  166rlcn  t3_166rlcn             0   \n",
      "2            FiestaPotato18   1693526817  166rmm4  t3_166rmm4             1   \n",
      "3                 BaysideJr   1693526935  166rob9  t3_166rob9             0   \n",
      "4                 095179005   1693526957  166romb  t3_166romb             0   \n",
      "...                     ...          ...      ...         ...           ...   \n",
      "10221  Specialist-Knee-3777   1694547739  16h0wgc  t3_16h0wgc             0   \n",
      "10222              GCR-Domi   1694554217  16h3qw6  t3_16h3qw6             0   \n",
      "10223        billyboxspring   1694556627  16h4tee  t3_16h4tee             0   \n",
      "10224  Low_Administration22   1694566514  16h8sth  t3_16h8sth             0   \n",
      "10225             rsemexant   1694576099  16hc98n  t3_16hc98n             0   \n",
      "\n",
      "       score                                           selftext  \\\n",
      "0          1                                                      \n",
      "1          3                                                      \n",
      "2        199                                                      \n",
      "3       1406                                                      \n",
      "4         18                                                      \n",
      "...      ...                                                ...   \n",
      "10221      0  Ok seriously that may be stupid because I don'...   \n",
      "10222      3  The cost of a kWh of storage in a modern e-car...   \n",
      "10223      1  I have powerwall plus and for the second time ...   \n",
      "10224      1  Hello,\\n\\nI had an electrician change my main ...   \n",
      "10225      9  So Tesla calls me yesterday afternoon and says...   \n",
      "\n",
      "                                                   title  \n",
      "0                                  Highland 3 (OFFICIAL)  \n",
      "1      Official new Model 3 Highlander via @FullyChar...  \n",
      "2      HIGHLAND REVEALED -> 🚨 BREAKING NEWS🚨 Robert t...  \n",
      "3      New Tesla Model 3 - what's changed? - CARWOW V...  \n",
      "4      Tesla opens up non-Tesla superchargers in Cana...  \n",
      "...                                                  ...  \n",
      "10221  Why can't powerwall discharge AND charge at th...  \n",
      "10222  big price difference of car battery vs. batter...  \n",
      "10223                             Anyway to stop update?  \n",
      "10224              Main Panel Changer now no home useage  \n",
      "10225                               Half of the Install?  \n",
      "\n",
      "[10226 rows x 8 columns]\n"
     ]
    }
   ],
   "source": [
    "import pymongo\n",
    "import pandas as pd\n",
    "\n",
    "# Establish a connection to MongoDB\n",
    "client = pymongo.MongoClient(\"mongodb://localhost:27017/\")\n",
    "\n",
    "# Access the database\n",
    "db = client[\"project\"]  # Replace \"your_database_name\" with your actual database name\n",
    "\n",
    "# Access the collection\n",
    "collection = db[\"tesla\"]\n",
    "\n",
    "# Fetch data from the collection\n",
    "cursor = collection.find({}, \n",
    "                         {\"created_utc\": 1, \n",
    "                          \"id\": 1, \n",
    "                          \"name\": 1, \n",
    "                          \"num_comments\": 1, \n",
    "                          \"score\": 1, \n",
    "                          \"title\": 1, \n",
    "                          \"selftext\": 1, \n",
    "                          \"author\": 1,\n",
    "                          \"_id\": 0})  # excluding the _id field\n",
    "\n",
    "# Convert cursor to a list of dictionaries\n",
    "documents = list(cursor)\n",
    "\n",
    "# Close the connection\n",
    "client.close()\n",
    "\n",
    "# Create a DataFrame\n",
    "df_post = pd.DataFrame(documents)\n",
    "\n",
    "# Print the DataFrame\n",
    "print(df_post)"
   ]
  },
  {
   "cell_type": "code",
   "execution_count": 13,
   "id": "4b13262c",
   "metadata": {},
   "outputs": [
    {
     "data": {
      "text/plain": [
       "Index(['author', 'created_utc', 'id', 'name', 'num_comments', 'score',\n",
       "       'selftext', 'title'],\n",
       "      dtype='object')"
      ]
     },
     "execution_count": 13,
     "metadata": {},
     "output_type": "execute_result"
    }
   ],
   "source": [
    "df_post.columns"
   ]
  },
  {
   "cell_type": "code",
   "execution_count": 14,
   "id": "f7afef54",
   "metadata": {},
   "outputs": [],
   "source": [
    "df_post.to_csv('tesla_posts.csv', index=False)"
   ]
  },
  {
   "cell_type": "code",
   "execution_count": 15,
   "id": "df5ca3a1",
   "metadata": {},
   "outputs": [
    {
     "name": "stdout",
     "output_type": "stream",
     "text": [
      "                             _id             author  \\\n",
      "0       65de895a8c6899c099ff4491      CommonerChaos   \n",
      "1       65de895a8c6899c099ff4492  NegotiationOk7535   \n",
      "2       65de895a8c6899c099ff4493            elwebst   \n",
      "3       65de895a8c6899c099ff4494       DonQuixBalls   \n",
      "4       65de895a8c6899c099ff4495       DonQuixBalls   \n",
      "...                          ...                ...   \n",
      "322991  65de8a7d8c6899c099043241              Schly   \n",
      "322992  65de8a7d8c6899c099043242    Shovelinthewind   \n",
      "322993  65de8a7d8c6899c099043243         Jetbee1961   \n",
      "322994  65de8a7d8c6899c099043244             IAM2NY   \n",
      "322995  65de8a7d8c6899c099043245     MorningStars88   \n",
      "\n",
      "                                                     body  created_utc  \\\n",
      "0                                        Pretty much lmao   1693526495   \n",
      "1       All that rumor for headlight change!!! I think...   1693526532   \n",
      "2       Kinds like Model S Raven - everyone was obsess...   1693526561   \n",
      "3       Also, doesn't really matter the car, they're a...   1693526572   \n",
      "4       Especially when you consider you can charge th...   1693526678   \n",
      "...                                                   ...          ...   \n",
      "322991  I didn’t. I make enough excess solar to pay fo...   1707864852   \n",
      "322992  Thank you for sharing the additional details. ...   1707865693   \n",
      "322993  Same, right after six months, they stopped wor...   1707866415   \n",
      "322994  Guess I got lucky and they installed powerwall...   1707868586   \n",
      "322995  We had a similar problem. Turned out that our ...   1707868727   \n",
      "\n",
      "             id        name  score  \n",
      "0       jylfrk6  t1_jylfrk6     20  \n",
      "1       jylfuol  t1_jylfuol      1  \n",
      "2       jylfx6o  t1_jylfx6o     14  \n",
      "3       jylfy5p  t1_jylfy5p      2  \n",
      "4       jylg7oo  t1_jylg7oo      1  \n",
      "...         ...         ...    ...  \n",
      "322991  kqaynvm  t1_kqaynvm      1  \n",
      "322992  kqb0y6n  t1_kqb0y6n      2  \n",
      "322993  kqb2uzu  t1_kqb2uzu      1  \n",
      "322994  kqb8hq4  t1_kqb8hq4      1  \n",
      "322995  kqb8uu7  t1_kqb8uu7      1  \n",
      "\n",
      "[322996 rows x 7 columns]\n"
     ]
    }
   ],
   "source": [
    "import pymongo\n",
    "import pandas as pd\n",
    "\n",
    "# Establish a connection to MongoDB\n",
    "client = pymongo.MongoClient(\"mongodb://localhost:27017/\")\n",
    "\n",
    "# Access the database\n",
    "db = client[\"project\"]  # Replace \"your_database_name\" with your actual database name\n",
    "\n",
    "# Access the collection\n",
    "collection = db[\"tesla_com\"]\n",
    "\n",
    "# Fetch data from the collection\n",
    "cursor = collection.find({}, \n",
    "                         {\"created_utc\": 1, \n",
    "                          \"id\": 1, \n",
    "                          \"name\": 1,  \n",
    "                          \"score\": 1, \n",
    "                          \"body\": 1, \n",
    "                          \"author\": 1,})  # excluding the _id field\n",
    "\n",
    "\n",
    "# Convert cursor to a list of dictionaries\n",
    "documents = list(cursor)\n",
    "\n",
    "# Close the connection\n",
    "client.close()\n",
    "\n",
    "# Create a DataFrame\n",
    "df_comment = pd.DataFrame(documents)\n",
    "\n",
    "# Print the DataFrame\n",
    "print(df_comment)"
   ]
  },
  {
   "cell_type": "code",
   "execution_count": 16,
   "id": "2413a403",
   "metadata": {},
   "outputs": [
    {
     "data": {
      "text/plain": [
       "Index(['_id', 'author', 'body', 'created_utc', 'id', 'name', 'score'], dtype='object')"
      ]
     },
     "execution_count": 16,
     "metadata": {},
     "output_type": "execute_result"
    }
   ],
   "source": [
    "df_comment.columns"
   ]
  },
  {
   "cell_type": "code",
   "execution_count": 17,
   "id": "689addc4",
   "metadata": {},
   "outputs": [],
   "source": [
    "df_comment.to_csv('tesla_comments.csv', index=False)"
   ]
  },
  {
   "cell_type": "code",
   "execution_count": null,
   "id": "2cba3fa8",
   "metadata": {},
   "outputs": [],
   "source": []
  },
  {
   "cell_type": "code",
   "execution_count": null,
   "id": "e7ff4145",
   "metadata": {},
   "outputs": [],
   "source": []
  },
  {
   "cell_type": "code",
   "execution_count": null,
   "id": "cd7aac79",
   "metadata": {},
   "outputs": [],
   "source": []
  },
  {
   "cell_type": "code",
   "execution_count": null,
   "id": "d43d1652",
   "metadata": {},
   "outputs": [],
   "source": []
  },
  {
   "cell_type": "code",
   "execution_count": null,
   "id": "8ed39114",
   "metadata": {},
   "outputs": [],
   "source": []
  },
  {
   "cell_type": "code",
   "execution_count": null,
   "id": "e960cd96",
   "metadata": {},
   "outputs": [],
   "source": []
  },
  {
   "cell_type": "code",
   "execution_count": null,
   "id": "a90ad18c",
   "metadata": {},
   "outputs": [],
   "source": []
  },
  {
   "cell_type": "code",
   "execution_count": null,
   "id": "11219d71",
   "metadata": {},
   "outputs": [],
   "source": []
  },
  {
   "cell_type": "code",
   "execution_count": null,
   "id": "98fdff42",
   "metadata": {},
   "outputs": [],
   "source": []
  },
  {
   "cell_type": "code",
   "execution_count": null,
   "id": "9ec208bf",
   "metadata": {},
   "outputs": [],
   "source": []
  },
  {
   "cell_type": "code",
   "execution_count": null,
   "id": "1fea6e00",
   "metadata": {},
   "outputs": [],
   "source": []
  },
  {
   "cell_type": "code",
   "execution_count": null,
   "id": "a60e85d4",
   "metadata": {},
   "outputs": [],
   "source": []
  },
  {
   "cell_type": "code",
   "execution_count": null,
   "id": "b3189015",
   "metadata": {},
   "outputs": [],
   "source": []
  },
  {
   "cell_type": "code",
   "execution_count": null,
   "id": "47d9145c",
   "metadata": {},
   "outputs": [],
   "source": []
  }
 ],
 "metadata": {
  "kernelspec": {
   "display_name": "Python 3 (ipykernel)",
   "language": "python",
   "name": "python3"
  },
  "language_info": {
   "codemirror_mode": {
    "name": "ipython",
    "version": 3
   },
   "file_extension": ".py",
   "mimetype": "text/x-python",
   "name": "python",
   "nbconvert_exporter": "python",
   "pygments_lexer": "ipython3",
   "version": "3.9.12"
  }
 },
 "nbformat": 4,
 "nbformat_minor": 5
}
